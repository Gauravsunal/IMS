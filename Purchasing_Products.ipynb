{
  "nbformat": 4,
  "nbformat_minor": 0,
  "metadata": {
    "colab": {
      "name": "Purchasing_Products.ipynb",
      "provenance": [],
      "collapsed_sections": []
    },
    "kernelspec": {
      "name": "python3",
      "display_name": "Python 3"
    },
    "language_info": {
      "name": "python"
    }
  },
  "cells": [
    {
      "cell_type": "markdown",
      "metadata": {
        "id": "Q-yz6m0wRtzV"
      },
      "source": [
        "# Read Inventory"
      ]
    },
    {
      "cell_type": "code",
      "metadata": {
        "id": "ICfYXesZQPUv"
      },
      "source": [
        "import json\n",
        "\n",
        "fd = open(\"record.json\",'r')\n",
        "r = fd.read()\n",
        "fd.close()\n",
        "\n",
        "records = json.loads(r)"
      ],
      "execution_count": 2,
      "outputs": []
    },
    {
      "cell_type": "code",
      "metadata": {
        "id": "K-2FucBuRd7_"
      },
      "source": [
        "records"
      ],
      "execution_count": null,
      "outputs": []
    },
    {
      "cell_type": "markdown",
      "metadata": {
        "id": "3gf1naIGRoUN"
      },
      "source": [
        "# Purchase"
      ]
    },
    {
      "cell_type": "code",
      "metadata": {
        "colab": {
          "base_uri": "https://localhost:8080/"
        },
        "id": "6zNdod_oRkLe",
        "outputId": "449ef2cd-77b6-4bf9-80c7-7d2bb4a1fe95"
      },
      "source": [
        "\n",
        "print(\"******************************************\")\n",
        "ui_prod  = str(input(\"Enter the product_Id: \"))\n",
        "ui_quant = int(input(\"Enter the quantity: \"))\n",
        "\n",
        "print(\"******************************************\")\n",
        "print(\"******************************************\")\n",
        "print()\n",
        "print(\"Product: \", records[ui_prod]['name'])\n",
        "print(\"Price: \", records[ui_prod]['Price'])\n",
        "print()\n",
        "print(\"******************************************\")\n",
        "print(\"******************************************\")\n",
        "\n",
        "print(\"Billing Amount: \", records[ui_prod]['Price'] * ui_quant)\n",
        "print(\"******************************************\")\n",
        "records[ui_prod]['quantity'] = records[ui_prod]['quantity'] - ui_quant"
      ],
      "execution_count": 14,
      "outputs": [
        {
          "output_type": "stream",
          "name": "stdout",
          "text": [
            "******************************************\n",
            "Enter the product_Id: 1025\n",
            "Enter the quantity: 25\n",
            "******************************************\n",
            "******************************************\n",
            "\n",
            "Product:  Panipuri\n",
            "Price:  30\n",
            "\n",
            "******************************************\n",
            "******************************************\n",
            "Billing Amount:  750\n",
            "******************************************\n"
          ]
        }
      ]
    },
    {
      "cell_type": "markdown",
      "metadata": {
        "id": "M6c9-Yc1U9j2"
      },
      "source": [
        "# Update Inventory after purchase"
      ]
    },
    {
      "cell_type": "code",
      "metadata": {
        "id": "0p4dgTPtU5F-"
      },
      "source": [
        "js = json.dumps(records)\n",
        "\n",
        "fd = open(\"record.json\",'w')\n",
        "fd.write(js)\n",
        "fd.close()"
      ],
      "execution_count": 15,
      "outputs": []
    },
    {
      "cell_type": "markdown",
      "metadata": {
        "id": "qrYOh2-JZZIU"
      },
      "source": [
        "\n",
        "# Sales JSON"
      ]
    },
    {
      "cell_type": "code",
      "metadata": {
        "colab": {
          "base_uri": "https://localhost:8080/"
        },
        "id": "9TzK9bAQVyX4",
        "outputId": "65fcd862-4453-485b-9eb3-b50ee6eda432"
      },
      "source": [
        "{'prod' : ui_prod, 'quantity' : ui_quant, 'amount': records[ui_prod]['Price'] * ui_quant}\n",
        "{'prod' : ui_prod, 'quantity' : ui_quant, 'amount': records[ui_prod]['Price'] * ui_quant}\n"
      ],
      "execution_count": 16,
      "outputs": [
        {
          "output_type": "execute_result",
          "data": {
            "text/plain": [
              "{'amount': 750, 'prod': '1025', 'quantity': 25}"
            ]
          },
          "metadata": {},
          "execution_count": 16
        }
      ]
    },
    {
      "cell_type": "code",
      "metadata": {
        "id": "9NoUJ9xcbGV5"
      },
      "source": [
        "\n",
        "sales = {2030 : {'prod' : ui_prod, 'quantity' : ui_quant, 'amount': records[ui_prod]['Price'] * ui_quant},\n",
        "         1022 : {'prod' : ui_prod, 'quantity' : ui_quant, 'amount': records[ui_prod]['Price'] * ui_quant},\n",
        "         1027 : {'prod' : ui_prod, 'quantity' : ui_quant, 'amount': records[ui_prod]['Price'] * ui_quant}}"
      ],
      "execution_count": 17,
      "outputs": []
    },
    {
      "cell_type": "code",
      "metadata": {
        "id": "5dI0XoPNbzHQ"
      },
      "source": [
        "sale = json.dumps(sales)"
      ],
      "execution_count": 18,
      "outputs": []
    },
    {
      "cell_type": "code",
      "metadata": {
        "colab": {
          "base_uri": "https://localhost:8080/",
          "height": 52
        },
        "id": "1Ng72r3Wb4zZ",
        "outputId": "e2ec8552-7ecc-4714-d72f-fb0db772e5f6"
      },
      "source": [
        "sale\n"
      ],
      "execution_count": 19,
      "outputs": [
        {
          "output_type": "execute_result",
          "data": {
            "application/vnd.google.colaboratory.intrinsic+json": {
              "type": "string"
            },
            "text/plain": [
              "'{\"2030\": {\"prod\": \"1025\", \"quantity\": 25, \"amount\": 750}, \"1022\": {\"prod\": \"1025\", \"quantity\": 25, \"amount\": 750}, \"1027\": {\"prod\": \"1025\", \"quantity\": 25, \"amount\": 750}}'"
            ]
          },
          "metadata": {},
          "execution_count": 19
        }
      ]
    },
    {
      "cell_type": "code",
      "metadata": {
        "id": "8lUm1VCMskQi"
      },
      "source": [
        "fd = open(\"sales.json\",'w')\n",
        "\n",
        "fd.write(sale)\n",
        "\n",
        "fd.close()"
      ],
      "execution_count": 20,
      "outputs": []
    },
    {
      "cell_type": "code",
      "metadata": {
        "id": "_Y9WjGtOstwJ"
      },
      "source": [
        "fd = open(\"sales.json\",'r')\n",
        "\n",
        "txt = fd.read()\n",
        "\n",
        "fd.close()"
      ],
      "execution_count": 21,
      "outputs": []
    },
    {
      "cell_type": "code",
      "metadata": {
        "colab": {
          "base_uri": "https://localhost:8080/",
          "height": 52
        },
        "id": "auqpuHrLsv4R",
        "outputId": "31f53351-4c96-46ee-8f4e-afadcf5bdeb4"
      },
      "source": [
        "txt"
      ],
      "execution_count": 22,
      "outputs": [
        {
          "output_type": "execute_result",
          "data": {
            "application/vnd.google.colaboratory.intrinsic+json": {
              "type": "string"
            },
            "text/plain": [
              "'{\"2030\": {\"prod\": \"1025\", \"quantity\": 25, \"amount\": 750}, \"1022\": {\"prod\": \"1025\", \"quantity\": 25, \"amount\": 750}, \"1027\": {\"prod\": \"1025\", \"quantity\": 25, \"amount\": 750}}'"
            ]
          },
          "metadata": {},
          "execution_count": 22
        }
      ]
    }
  ]
}