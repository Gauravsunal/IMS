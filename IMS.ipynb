{
  "nbformat": 4,
  "nbformat_minor": 0,
  "metadata": {
    "colab": {
      "name": "IMS.ipynb",
      "provenance": [],
      "collapsed_sections": []
    },
    "kernelspec": {
      "name": "python3",
      "display_name": "Python 3"
    },
    "language_info": {
      "name": "python"
    }
  },
  "cells": [
    {
      "cell_type": "markdown",
      "metadata": {
        "id": "CeYTk_KLEXxX"
      },
      "source": [
        "# All Inventory"
      ]
    },
    {
      "cell_type": "code",
      "metadata": {
        "id": "oSj2Grf3MH_J"
      },
      "source": [
        "record = { 1001 : {\"name\": \"kit kat\" , \"Price\": 20, \"quantity\" : 35, \"PKD\" : \"25-08-2021\", \"Expiry Date\" : \"25-12-2022\"},\n",
        "           1002 : {\"name\": \"biscuit\" , \"Price\": 10, \"quantity\" : 50, \"PKD\" : \"15-08-2021\", \"Expiry Date\" : \"20-12-2022\"},\n",
        "           1003 : {\"name\": \"dairy-milk\" , \"Price\": 25, \"quantity\" : 40, \"PKD\" : \"05-08-2021\", \"Expiry Date\" : \"05-12-2022\"},\n",
        "           1004 : {\"name\": \"Maggie\" , \"Price\": 30, \"quantity\" : 25, \"PKD\" : \"1-08-2021\", \"Expiry Date\" : \"1-12-2022\"},\n",
        "           1005 : {\"name\": \"Ice-Cream\" , \"Price\": 30, \"quantity\" : 36, \"PKD\" : \"2-08-2021\", \"Expiry Date\" : \"2-12-2022\"},\n",
        "           1006 : {\"name\": \"Pen\" , \"Price\": 15, \"quantity\" : 50, \"PKD\" : \"3-08-2021\", \"Expiry Date\" : \"3-12-2022\"},\n",
        "           1007 : {\"name\": \"Copy\" , \"Price\": 40, \"quantity\" : 20, \"PKD\" : \"4-08-2021\", \"Expiry Date\" : \"4-12-2022\"},\n",
        "           1008 : {\"name\": \"Mashroom\" , \"Price\": 100, \"quantity\" : 15, \"PKD\" : \"5-08-2021\", \"Expiry Date\" : \"5-12-2022\"},\n",
        "           1009 : {\"name\": \"toffee\" , \"Price\": 5, \"quantity\" : 50, \"PKD\" : \"6-08-2021\", \"Expiry Date\" : \"6-12-2022\"},\n",
        "           1010 : {\"name\": \"Apple\" , \"Price\": 60, \"quantity\" : 10, \"PKD\" : \"7-08-2021\", \"Expiry Date\" : \"7-12-2022\"},\n",
        "           1011 : {\"name\": \"Vim\" , \"Price\": 20, \"quantity\" : 60, \"PKD\" : \"8-08-2021\", \"Expiry Date\" : \"8-12-2022\"},\n",
        "           1012 : {\"name\": \"Brush\" , \"Price\": 50, \"quantity\" : 10, \"PKD\" : \"9-08-2021\", \"Expiry Date\" : \"9-12-2022\"},\n",
        "           1013 : {\"name\": \"Chicken\" , \"Price\": 250, \"quantity\" : 10, \"PKD\" : \"10-08-2021\", \"Expiry Date\" : \"10-12-2022\"},\n",
        "           1014 : {\"name\": \"Maggies\" , \"Price\": 30, \"quantity\" : 25, \"PKD\" : \"11-08-2021\", \"Expiry Date\" : \"11-12-2022\"},\n",
        "           1015 : {\"name\": \"Burger\" , \"Price\": 30, \"quantity\" : 15, \"PKD\" : \"12-08-2021\", \"Expiry Date\" : \"12-12-2022\"},\n",
        "           1016 : {\"name\": \"Pizza\" , \"Price\": 70, \"quantity\" : 24, \"PKD\" : \"13-08-2021\", \"Expiry Date\" : \"13-12-2022\"},\n",
        "           1017 : {\"name\": \"Rough Copy\" , \"Price\": 35, \"quantity\" : 20, \"PKD\" : \"14-08-2021\", \"Expiry Date\" : \"14-12-2022\"},\n",
        "           1018 : {\"name\": \"Milk\" , \"Price\": 36, \"quantity\" : 15, \"PKD\" : \"15-08-2021\", \"Expiry Date\" : \"15-12-2022\"},\n",
        "           1019 : {\"name\": \"Close-Up\" , \"Price\": 15, \"quantity\" : 10, \"PKD\" : \"16-08-2021\", \"Expiry Date\" : \"16-12-2022\"},\n",
        "           1020 : {\"name\": \"Mango\" , \"Price\": 60, \"quantity\" : 10, \"PKD\" : \"17-08-2021\", \"Expiry Date\" : \"17-12-2022\"},\n",
        "           1021 : {\"name\": \"Masala-Chai\" , \"Price\": 20, \"quantity\" : 12, \"PKD\" : \"25-08-2021\", \"Expiry Date\" : \"18-12-2022\"},\n",
        "           1022 : {\"name\": \"Samosa\" , \"Price\": 10, \"quantity\" : 50, \"PKD\" : \"15-08-2021\", \"Expiry Date\" : \"20-12-2022\"},\n",
        "           1023 : {\"name\": \"Kulche\" , \"Price\": 25, \"quantity\" : 40, \"PKD\" : \"05-08-2021\", \"Expiry Date\" : \"05-12-2022\"},\n",
        "           1024 : {\"name\": \"Maggie\" , \"Price\": 30, \"quantity\" : 25, \"PKD\" : \"1-08-2021\", \"Expiry Date\" : \"1-12-2022\"},\n",
        "           1025 : {\"name\": \"Panipuri\" , \"Price\": 30, \"quantity\" : 36, \"PKD\" : \"2-08-2021\", \"Expiry Date\" : \"2-12-2022\"},\n",
        "           1026 : {\"name\": \"Jalebi.\" , \"Price\": 15, \"quantity\" : 50, \"PKD\" : \"3-08-2021\", \"Expiry Date\" : \"3-12-2022\"},\n",
        "           1027 : {\"name\": \"Copy\" , \"Price\": 40, \"quantity\" : 20, \"PKD\" : \"4-08-2021\", \"Expiry Date\" : \"4-12-2022\"},\n",
        "           1028 : {\"name\": \"Chhole Bhature\" , \"Price\": 100, \"quantity\" : 15, \"PKD\" : \"5-08-2021\", \"Expiry Date\" : \"5-12-2022\"},\n",
        "           1029 : {\"name\": \"Burfi\" , \"Price\": 5, \"quantity\" : 50, \"PKD\" : \"6-08-2021\", \"Expiry Date\" : \"6-12-2022\"}}\n",
        "          #  1030 : {\"name\": \"Apple\" , \"Price\": 60, \"quantity\" : 10, \"PKD\" : \"7-08-2021\", \"Expiry Date\" : \"7-12-2022\"},\n",
        "           \n",
        "          \n",
        "\n",
        "\n"
      ],
      "execution_count": 1,
      "outputs": []
    },
    {
      "cell_type": "code",
      "metadata": {
        "id": "oAmeXf-oSfGX",
        "colab": {
          "base_uri": "https://localhost:8080/"
        },
        "outputId": "681a9a87-f194-4372-ca02-d778f24c900d"
      },
      "source": [
        "reg = 1028\n",
        "print(record[reg]['name'])\n",
        "print(record[reg]['Price'])\n",
        "print(record[reg]['quantity'])\n",
        "print(record[reg]['PKD'])\n",
        "print(record[reg]['Expiry Date'])\n",
        "\n"
      ],
      "execution_count": 2,
      "outputs": [
        {
          "output_type": "stream",
          "name": "stdout",
          "text": [
            "Chhole Bhature\n",
            "100\n",
            "15\n",
            "5-08-2021\n",
            "5-12-2022\n"
          ]
        }
      ]
    },
    {
      "cell_type": "code",
      "metadata": {
        "id": "XHBclcPLFll9",
        "colab": {
          "base_uri": "https://localhost:8080/"
        },
        "outputId": "7201ca93-e35e-4255-a00d-4d1e0289699b"
      },
      "source": [
        "record"
      ],
      "execution_count": 3,
      "outputs": [
        {
          "output_type": "execute_result",
          "data": {
            "text/plain": [
              "{1001: {'Expiry Date': '25-12-2022',\n",
              "  'PKD': '25-08-2021',\n",
              "  'Price': 20,\n",
              "  'name': 'kit kat',\n",
              "  'quantity': 35},\n",
              " 1002: {'Expiry Date': '20-12-2022',\n",
              "  'PKD': '15-08-2021',\n",
              "  'Price': 10,\n",
              "  'name': 'biscuit',\n",
              "  'quantity': 50},\n",
              " 1003: {'Expiry Date': '05-12-2022',\n",
              "  'PKD': '05-08-2021',\n",
              "  'Price': 25,\n",
              "  'name': 'dairy-milk',\n",
              "  'quantity': 40},\n",
              " 1004: {'Expiry Date': '1-12-2022',\n",
              "  'PKD': '1-08-2021',\n",
              "  'Price': 30,\n",
              "  'name': 'Maggie',\n",
              "  'quantity': 25},\n",
              " 1005: {'Expiry Date': '2-12-2022',\n",
              "  'PKD': '2-08-2021',\n",
              "  'Price': 30,\n",
              "  'name': 'Ice-Cream',\n",
              "  'quantity': 36},\n",
              " 1006: {'Expiry Date': '3-12-2022',\n",
              "  'PKD': '3-08-2021',\n",
              "  'Price': 15,\n",
              "  'name': 'Pen',\n",
              "  'quantity': 50},\n",
              " 1007: {'Expiry Date': '4-12-2022',\n",
              "  'PKD': '4-08-2021',\n",
              "  'Price': 40,\n",
              "  'name': 'Copy',\n",
              "  'quantity': 20},\n",
              " 1008: {'Expiry Date': '5-12-2022',\n",
              "  'PKD': '5-08-2021',\n",
              "  'Price': 100,\n",
              "  'name': 'Mashroom',\n",
              "  'quantity': 15},\n",
              " 1009: {'Expiry Date': '6-12-2022',\n",
              "  'PKD': '6-08-2021',\n",
              "  'Price': 5,\n",
              "  'name': 'toffee',\n",
              "  'quantity': 50},\n",
              " 1010: {'Expiry Date': '7-12-2022',\n",
              "  'PKD': '7-08-2021',\n",
              "  'Price': 60,\n",
              "  'name': 'Apple',\n",
              "  'quantity': 10},\n",
              " 1011: {'Expiry Date': '8-12-2022',\n",
              "  'PKD': '8-08-2021',\n",
              "  'Price': 20,\n",
              "  'name': 'Vim',\n",
              "  'quantity': 60},\n",
              " 1012: {'Expiry Date': '9-12-2022',\n",
              "  'PKD': '9-08-2021',\n",
              "  'Price': 50,\n",
              "  'name': 'Brush',\n",
              "  'quantity': 10},\n",
              " 1013: {'Expiry Date': '10-12-2022',\n",
              "  'PKD': '10-08-2021',\n",
              "  'Price': 250,\n",
              "  'name': 'Chicken',\n",
              "  'quantity': 10},\n",
              " 1014: {'Expiry Date': '11-12-2022',\n",
              "  'PKD': '11-08-2021',\n",
              "  'Price': 30,\n",
              "  'name': 'Maggies',\n",
              "  'quantity': 25},\n",
              " 1015: {'Expiry Date': '12-12-2022',\n",
              "  'PKD': '12-08-2021',\n",
              "  'Price': 30,\n",
              "  'name': 'Burger',\n",
              "  'quantity': 15},\n",
              " 1016: {'Expiry Date': '13-12-2022',\n",
              "  'PKD': '13-08-2021',\n",
              "  'Price': 70,\n",
              "  'name': 'Pizza',\n",
              "  'quantity': 24},\n",
              " 1017: {'Expiry Date': '14-12-2022',\n",
              "  'PKD': '14-08-2021',\n",
              "  'Price': 35,\n",
              "  'name': 'Rough Copy',\n",
              "  'quantity': 20},\n",
              " 1018: {'Expiry Date': '15-12-2022',\n",
              "  'PKD': '15-08-2021',\n",
              "  'Price': 36,\n",
              "  'name': 'Milk',\n",
              "  'quantity': 15},\n",
              " 1019: {'Expiry Date': '16-12-2022',\n",
              "  'PKD': '16-08-2021',\n",
              "  'Price': 15,\n",
              "  'name': 'Close-Up',\n",
              "  'quantity': 10},\n",
              " 1020: {'Expiry Date': '17-12-2022',\n",
              "  'PKD': '17-08-2021',\n",
              "  'Price': 60,\n",
              "  'name': 'Mango',\n",
              "  'quantity': 10},\n",
              " 1021: {'Expiry Date': '18-12-2022',\n",
              "  'PKD': '25-08-2021',\n",
              "  'Price': 20,\n",
              "  'name': 'Masala-Chai',\n",
              "  'quantity': 12},\n",
              " 1022: {'Expiry Date': '20-12-2022',\n",
              "  'PKD': '15-08-2021',\n",
              "  'Price': 10,\n",
              "  'name': 'Samosa',\n",
              "  'quantity': 50},\n",
              " 1023: {'Expiry Date': '05-12-2022',\n",
              "  'PKD': '05-08-2021',\n",
              "  'Price': 25,\n",
              "  'name': 'Kulche',\n",
              "  'quantity': 40},\n",
              " 1024: {'Expiry Date': '1-12-2022',\n",
              "  'PKD': '1-08-2021',\n",
              "  'Price': 30,\n",
              "  'name': 'Maggie',\n",
              "  'quantity': 25},\n",
              " 1025: {'Expiry Date': '2-12-2022',\n",
              "  'PKD': '2-08-2021',\n",
              "  'Price': 30,\n",
              "  'name': 'Panipuri',\n",
              "  'quantity': 36},\n",
              " 1026: {'Expiry Date': '3-12-2022',\n",
              "  'PKD': '3-08-2021',\n",
              "  'Price': 15,\n",
              "  'name': 'Jalebi.',\n",
              "  'quantity': 50},\n",
              " 1027: {'Expiry Date': '4-12-2022',\n",
              "  'PKD': '4-08-2021',\n",
              "  'Price': 40,\n",
              "  'name': 'Copy',\n",
              "  'quantity': 20},\n",
              " 1028: {'Expiry Date': '5-12-2022',\n",
              "  'PKD': '5-08-2021',\n",
              "  'Price': 100,\n",
              "  'name': 'Chhole Bhature',\n",
              "  'quantity': 15},\n",
              " 1029: {'Expiry Date': '6-12-2022',\n",
              "  'PKD': '6-08-2021',\n",
              "  'Price': 5,\n",
              "  'name': 'Burfi',\n",
              "  'quantity': 50}}"
            ]
          },
          "metadata": {},
          "execution_count": 3
        }
      ]
    },
    {
      "cell_type": "code",
      "metadata": {
        "id": "7HMlD1oPFvVt"
      },
      "source": [
        "import json"
      ],
      "execution_count": 4,
      "outputs": []
    },
    {
      "cell_type": "code",
      "metadata": {
        "id": "CDPYeb-wFwII"
      },
      "source": [
        "js = json.dumps(record)"
      ],
      "execution_count": 5,
      "outputs": []
    },
    {
      "cell_type": "code",
      "metadata": {
        "id": "2U9kKUEHF3lj"
      },
      "source": [
        "js"
      ],
      "execution_count": null,
      "outputs": []
    },
    {
      "cell_type": "code",
      "metadata": {
        "id": "PA_nrT5OGMt1"
      },
      "source": [
        "record"
      ],
      "execution_count": null,
      "outputs": []
    },
    {
      "cell_type": "code",
      "metadata": {
        "id": "ph5tSY2NGTDE",
        "colab": {
          "base_uri": "https://localhost:8080/"
        },
        "outputId": "78b68794-fdb8-4da8-8948-6fb5be9bb657"
      },
      "source": [
        "type(js)"
      ],
      "execution_count": 8,
      "outputs": [
        {
          "output_type": "execute_result",
          "data": {
            "text/plain": [
              "str"
            ]
          },
          "metadata": {},
          "execution_count": 8
        }
      ]
    },
    {
      "cell_type": "code",
      "metadata": {
        "id": "gKGy43MmGWXb"
      },
      "source": [
        "type(record)"
      ],
      "execution_count": null,
      "outputs": []
    },
    {
      "cell_type": "code",
      "metadata": {
        "id": "guMxhXfFGbyk"
      },
      "source": [
        "\n",
        "fd = open(\"record.json\",'w')\n",
        "\n",
        "fd.write(js)\n",
        "\n",
        "fd.close()"
      ],
      "execution_count": 10,
      "outputs": []
    },
    {
      "cell_type": "markdown",
      "metadata": {
        "id": "reZGf-Y5JMJn"
      },
      "source": [
        "# Read Data from JSON"
      ]
    },
    {
      "cell_type": "code",
      "metadata": {
        "id": "s3_apLDsG19s"
      },
      "source": [
        "fd = open(\"record.json\",'r')\n",
        "\n",
        "txt = fd.read()\n",
        "\n",
        "fd.close()"
      ],
      "execution_count": 11,
      "outputs": []
    },
    {
      "cell_type": "code",
      "metadata": {
        "id": "ShNF9vwpG6Xw"
      },
      "source": [
        "txt"
      ],
      "execution_count": null,
      "outputs": []
    },
    {
      "cell_type": "code",
      "metadata": {
        "id": "gyXXwHFmHIGU"
      },
      "source": [
        "record = json.loads(txt)"
      ],
      "execution_count": null,
      "outputs": []
    },
    {
      "cell_type": "code",
      "metadata": {
        "id": "ID93v-Z9HLq8"
      },
      "source": [
        "record"
      ],
      "execution_count": null,
      "outputs": []
    },
    {
      "cell_type": "code",
      "metadata": {
        "id": "4GYsid5qHS5c"
      },
      "source": [
        "\n",
        "record['1026']"
      ],
      "execution_count": 20,
      "outputs": []
    },
    {
      "cell_type": "code",
      "metadata": {
        "id": "8rxpEynoHbqe"
      },
      "source": [
        "import time"
      ],
      "execution_count": 16,
      "outputs": []
    },
    {
      "cell_type": "code",
      "metadata": {
        "id": "CMs_KkPoHfvM",
        "colab": {
          "base_uri": "https://localhost:8080/",
          "height": 35
        },
        "outputId": "57015d72-0feb-4fe7-b88a-18275a1fa3ab"
      },
      "source": [
        "\n",
        "time.ctime()"
      ],
      "execution_count": 17,
      "outputs": [
        {
          "output_type": "execute_result",
          "data": {
            "application/vnd.google.colaboratory.intrinsic+json": {
              "type": "string"
            },
            "text/plain": [
              "'Mon Sep  6 14:58:30 2021'"
            ]
          },
          "metadata": {},
          "execution_count": 17
        }
      ]
    },
    {
      "cell_type": "code",
      "metadata": {
        "id": "6LuVhL_oHqGo",
        "colab": {
          "base_uri": "https://localhost:8080/"
        },
        "outputId": "df4ce6dd-d5de-478b-cade-62f567cc928f"
      },
      "source": [
        "record.values()"
      ],
      "execution_count": 18,
      "outputs": [
        {
          "output_type": "execute_result",
          "data": {
            "text/plain": [
              "dict_values([{'name': 'kit kat', 'Price': 20, 'quantity': 35, 'PKD': '25-08-2021', 'Expiry Date': '25-12-2022'}, {'name': 'biscuit', 'Price': 10, 'quantity': 50, 'PKD': '15-08-2021', 'Expiry Date': '20-12-2022'}, {'name': 'dairy-milk', 'Price': 25, 'quantity': 40, 'PKD': '05-08-2021', 'Expiry Date': '05-12-2022'}, {'name': 'Maggie', 'Price': 30, 'quantity': 25, 'PKD': '1-08-2021', 'Expiry Date': '1-12-2022'}, {'name': 'Ice-Cream', 'Price': 30, 'quantity': 36, 'PKD': '2-08-2021', 'Expiry Date': '2-12-2022'}, {'name': 'Pen', 'Price': 15, 'quantity': 50, 'PKD': '3-08-2021', 'Expiry Date': '3-12-2022'}, {'name': 'Copy', 'Price': 40, 'quantity': 20, 'PKD': '4-08-2021', 'Expiry Date': '4-12-2022'}, {'name': 'Mashroom', 'Price': 100, 'quantity': 15, 'PKD': '5-08-2021', 'Expiry Date': '5-12-2022'}, {'name': 'toffee', 'Price': 5, 'quantity': 50, 'PKD': '6-08-2021', 'Expiry Date': '6-12-2022'}, {'name': 'Apple', 'Price': 60, 'quantity': 10, 'PKD': '7-08-2021', 'Expiry Date': '7-12-2022'}, {'name': 'Vim', 'Price': 20, 'quantity': 60, 'PKD': '8-08-2021', 'Expiry Date': '8-12-2022'}, {'name': 'Brush', 'Price': 50, 'quantity': 10, 'PKD': '9-08-2021', 'Expiry Date': '9-12-2022'}, {'name': 'Chicken', 'Price': 250, 'quantity': 10, 'PKD': '10-08-2021', 'Expiry Date': '10-12-2022'}, {'name': 'Maggies', 'Price': 30, 'quantity': 25, 'PKD': '11-08-2021', 'Expiry Date': '11-12-2022'}, {'name': 'Burger', 'Price': 30, 'quantity': 15, 'PKD': '12-08-2021', 'Expiry Date': '12-12-2022'}, {'name': 'Pizza', 'Price': 70, 'quantity': 24, 'PKD': '13-08-2021', 'Expiry Date': '13-12-2022'}, {'name': 'Rough Copy', 'Price': 35, 'quantity': 20, 'PKD': '14-08-2021', 'Expiry Date': '14-12-2022'}, {'name': 'Milk', 'Price': 36, 'quantity': 15, 'PKD': '15-08-2021', 'Expiry Date': '15-12-2022'}, {'name': 'Close-Up', 'Price': 15, 'quantity': 10, 'PKD': '16-08-2021', 'Expiry Date': '16-12-2022'}, {'name': 'Mango', 'Price': 60, 'quantity': 10, 'PKD': '17-08-2021', 'Expiry Date': '17-12-2022'}, {'name': 'Masala-Chai', 'Price': 20, 'quantity': 12, 'PKD': '25-08-2021', 'Expiry Date': '18-12-2022'}, {'name': 'Samosa', 'Price': 10, 'quantity': 50, 'PKD': '15-08-2021', 'Expiry Date': '20-12-2022'}, {'name': 'Kulche', 'Price': 25, 'quantity': 40, 'PKD': '05-08-2021', 'Expiry Date': '05-12-2022'}, {'name': 'Maggie', 'Price': 30, 'quantity': 25, 'PKD': '1-08-2021', 'Expiry Date': '1-12-2022'}, {'name': 'Panipuri', 'Price': 30, 'quantity': 36, 'PKD': '2-08-2021', 'Expiry Date': '2-12-2022'}, {'name': 'Jalebi.', 'Price': 15, 'quantity': 50, 'PKD': '3-08-2021', 'Expiry Date': '3-12-2022'}, {'name': 'Copy', 'Price': 40, 'quantity': 20, 'PKD': '4-08-2021', 'Expiry Date': '4-12-2022'}, {'name': 'Chhole Bhature', 'Price': 100, 'quantity': 15, 'PKD': '5-08-2021', 'Expiry Date': '5-12-2022'}, {'name': 'Burfi', 'Price': 5, 'quantity': 50, 'PKD': '6-08-2021', 'Expiry Date': '6-12-2022'}])"
            ]
          },
          "metadata": {},
          "execution_count": 18
        }
      ]
    },
    {
      "cell_type": "code",
      "metadata": {
        "id": "8n4lh9mzHuwh",
        "colab": {
          "base_uri": "https://localhost:8080/"
        },
        "outputId": "5807a7a2-6a59-4903-ebf1-fd384677a86b"
      },
      "source": [
        "record.keys()"
      ],
      "execution_count": 19,
      "outputs": [
        {
          "output_type": "execute_result",
          "data": {
            "text/plain": [
              "dict_keys([1001, 1002, 1003, 1004, 1005, 1006, 1007, 1008, 1009, 1010, 1011, 1012, 1013, 1014, 1015, 1016, 1017, 1018, 1019, 1020, 1021, 1022, 1023, 1024, 1025, 1026, 1027, 1028, 1029])"
            ]
          },
          "metadata": {},
          "execution_count": 19
        }
      ]
    },
    {
      "cell_type": "markdown",
      "metadata": {
        "id": "ivWrz5eRI535"
      },
      "source": [
        "\n",
        "# Add New Item into Inventory"
      ]
    },
    {
      "cell_type": "code",
      "metadata": {
        "colab": {
          "base_uri": "https://localhost:8080/"
        },
        "id": "XO35sdemI45M",
        "outputId": "f44322f9-8ea6-4fa4-b088-a4cb5e36b8cd"
      },
      "source": [
        "\n",
        "prod_id = str(input(\"Enter product id:\"))\n",
        "name = str(input(\"Enter name:\"))\n",
        "pr = int(input(\"Enter price:\"))\n",
        "qn = int(input(\"Enter quantity:\"))\n",
        "pkd = str(input(\"Enter PKD:\"))\n",
        "Expiry_Date = str(input(\"Enter Expiry Date:\"))\n",
        "record[prod_id] = {'name': name, 'Price': pr, 'quantity': qn, 'PKD':pkd, 'Expiry Date':Expiry_Date}\n",
        "js = json.dumps(record)\n",
        "\n",
        "fd = open(\"record.json\",'w')\n",
        "fd.write(js)\n",
        "fd.close()"
      ],
      "execution_count": 21,
      "outputs": [
        {
          "name": "stdout",
          "output_type": "stream",
          "text": [
            "Enter product id:1030\n",
            "Enter name:Butter Chicken\n",
            "Enter price:250\n",
            "Enter quantity:50\n",
            "Enter PKD:22-10-2021\n",
            "Enter Expiry Date:22-12-2021\n"
          ]
        }
      ]
    },
    {
      "cell_type": "code",
      "metadata": {
        "colab": {
          "base_uri": "https://localhost:8080/"
        },
        "id": "VJPV7OX5WGQ1",
        "outputId": "f6296760-9d09-40bd-beb7-34301e602465"
      },
      "source": [
        "prod_id = str(input(\"Enter product id:\"))\n",
        "name = str(input(\"Enter name:\"))\n",
        "pr = int(input(\"Enter price:\"))\n",
        "qn = int(input(\"Enter quantity:\"))\n",
        "pkd = str(input(\"Enter PKD:\"))\n",
        "Expiry_Date = str(input(\"Enter Expiry Date:\"))\n",
        "record[prod_id] = {'name': name, 'Price': pr, 'quantity': qn, 'PKD':pkd, 'Expiry Date':Expiry_Date}\n",
        "js = json.dumps(record)\n",
        "fd = open(\"record.json\",'w')\n",
        "fd.write(js)\n",
        "fd.close()"
      ],
      "execution_count": 22,
      "outputs": [
        {
          "name": "stdout",
          "output_type": "stream",
          "text": [
            "Enter product id:1030\n",
            "Enter name:Butter Chiken\n",
            "Enter price:250\n",
            "Enter quantity:50\n",
            "Enter PKD:22-10-2021\n",
            "Enter Expiry Date:22-12-2021\n"
          ]
        }
      ]
    },
    {
      "cell_type": "code",
      "metadata": {
        "id": "arGzAwCzH1ff"
      },
      "source": [
        "record\n"
      ],
      "execution_count": null,
      "outputs": []
    },
    {
      "cell_type": "code",
      "metadata": {
        "id": "LLY8B10tLcjm"
      },
      "source": [
        "\n",
        "#del record['1031']\n"
      ],
      "execution_count": null,
      "outputs": []
    },
    {
      "cell_type": "code",
      "metadata": {
        "id": "kMeg7VddLhFD"
      },
      "source": [
        "record"
      ],
      "execution_count": null,
      "outputs": []
    }
  ]
}